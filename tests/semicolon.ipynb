{
 "cells": [
  {
   "cell_type": "code",
   "execution_count": 1,
   "id": "afdb005e",
   "metadata": {},
   "outputs": [],
   "source": [
    "def test():\n",
    "    return \"hello test\""
   ]
  },
  {
   "cell_type": "code",
   "execution_count": 2,
   "id": "0220821a",
   "metadata": {},
   "outputs": [
    {
     "data": {
      "text/plain": [
       "'hello test'"
      ]
     },
     "execution_count": 2,
     "metadata": {},
     "output_type": "execute_result"
    }
   ],
   "source": [
    "test()"
   ]
  },
  {
   "cell_type": "code",
   "execution_count": 3,
   "id": "34a62f9b",
   "metadata": {},
   "outputs": [],
   "source": [
    "test();"
   ]
  },
  {
   "cell_type": "code",
   "execution_count": null,
   "id": "fe1825a1",
   "metadata": {},
   "outputs": [],
   "source": []
  }
 ],
 "metadata": {
  "kernelspec": {
   "display_name": "Python 3 (ipykernel)",
   "language": "python",
   "name": "python3"
  },
  "language_info": {
   "codemirror_mode": {
    "name": "ipython",
    "version": 3
   },
   "file_extension": ".py",
   "mimetype": "text/x-python",
   "name": "python",
   "nbconvert_exporter": "python",
   "pygments_lexer": "ipython3",
   "version": "3.10.8"
  }
 },
 "nbformat": 4,
 "nbformat_minor": 5
}
